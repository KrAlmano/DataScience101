{
 "cells": [
  {
   "cell_type": "code",
   "execution_count": null,
   "id": "3ef64f0e",
   "metadata": {},
   "outputs": [
    {
     "name": "stdout",
     "output_type": "stream",
     "text": [
      "[1200.0, 2400.0, 3000, 4000, 5000]\n"
     ]
    }
   ],
   "source": [
    "#List Comprehensions\n",
    "null_list = []\n",
    "\n",
    "salaries = [1000,2000,3000,4000,5000]\n",
    "\n",
    "def new_salary(value):\n",
    "    value = value + value*20/100\n",
    "    return value\n",
    "\n",
    "[null_list.append(new_salary(x)) if x<3000 else null_list.append(x) for x in values]\n",
    "print(null_list)"
   ]
  },
  {
   "cell_type": "code",
   "execution_count": 8,
   "id": "a2224dd6",
   "metadata": {},
   "outputs": [
    {
     "data": {
      "text/plain": [
       "[2000, 4000, 6000, 8000, 10000]"
      ]
     },
     "execution_count": 8,
     "metadata": {},
     "output_type": "execute_result"
    }
   ],
   "source": [
    "[salary*2 for salary in salaries]"
   ]
  },
  {
   "cell_type": "code",
   "execution_count": 10,
   "id": "5cfc3105",
   "metadata": {},
   "outputs": [
    {
     "name": "stdout",
     "output_type": "stream",
     "text": [
      "john\n",
      "MARK\n",
      "venessa\n",
      "MARIAM\n"
     ]
    },
    {
     "data": {
      "text/plain": [
       "[None, None, None, None]"
      ]
     },
     "execution_count": 10,
     "metadata": {},
     "output_type": "execute_result"
    }
   ],
   "source": [
    "students = [\"John\",\"Mark\",\"Venessa\",\"Mariam\"]\n",
    "students_no = [\"John\",\"Venessa\"]\n",
    "\n",
    "[print(student.upper()) if student not in students_no else print(student.lower()) for student in students ]"
   ]
  },
  {
   "cell_type": "code",
   "execution_count": 4,
   "id": "da26f05d",
   "metadata": {},
   "outputs": [
    {
     "name": "stdout",
     "output_type": "stream",
     "text": [
      "dict_keys(['a', 'b', 'c', 'd'])\n",
      "--------\n",
      "dict_values([1, 2, 3, 4])\n",
      "--------\n",
      "dict_items([('a', 1), ('b', 2), ('c', 3), ('d', 4)])\n"
     ]
    }
   ],
   "source": [
    "#Dict Comprehension\n",
    "dictionary = {\"a\":1,\n",
    "              \"b\":2,\n",
    "              \"c\":3,\n",
    "              \"d\":4}\n",
    "\n",
    "print(dictionary.keys())\n",
    "print(\"--------\")\n",
    "print(dictionary.values())\n",
    "print(\"--------\")\n",
    "print(dictionary.items())"
   ]
  },
  {
   "cell_type": "code",
   "execution_count": 11,
   "id": "9c83dcef",
   "metadata": {},
   "outputs": [
    {
     "data": {
      "text/plain": [
       "{'a': 1, 'b': 4, 'c': 9, 'd': 16}"
      ]
     },
     "execution_count": 11,
     "metadata": {},
     "output_type": "execute_result"
    }
   ],
   "source": [
    "{k : v **2 for (k,v) in dictionary.items()}"
   ]
  },
  {
   "cell_type": "code",
   "execution_count": 12,
   "id": "4b1abb64",
   "metadata": {},
   "outputs": [
    {
     "data": {
      "text/plain": [
       "{'A': 2, 'B': 4, 'C': 6, 'D': 8}"
      ]
     },
     "execution_count": 12,
     "metadata": {},
     "output_type": "execute_result"
    }
   ],
   "source": [
    "{k.upper() : v*2  for (k,v) in dictionary.items()}"
   ]
  },
  {
   "cell_type": "code",
   "execution_count": 17,
   "id": "fd8bfc63",
   "metadata": {},
   "outputs": [
    {
     "data": {
      "text/plain": [
       "{0: 0, 1: 1, 2: 4, 3: 3, 4: 16, 5: 5, 6: 36, 7: 7, 8: 64, 9: 9}"
      ]
     },
     "execution_count": 17,
     "metadata": {},
     "output_type": "execute_result"
    }
   ],
   "source": [
    "#Put the square of even numbers to the list \n",
    "#EX: expected output =  1:1 ,2:4 ,3:3,4,16...\n",
    "\n",
    "numbers = range(10)\n",
    "{n:(n**2 if n%2==0 else n) for n in numbers }"
   ]
  },
  {
   "cell_type": "code",
   "execution_count": 48,
   "id": "dfd8dc30",
   "metadata": {},
   "outputs": [
    {
     "data": {
      "text/plain": [
       "Index(['TOTAL', 'SPEEDING', 'ALCOHOL', 'NOT_DISTRACTED', 'NO_PREVIOUS',\n",
       "       'INS_PREMIUM', 'INS_LOSSES', 'ABBREV'],\n",
       "      dtype='object')"
      ]
     },
     "execution_count": 48,
     "metadata": {},
     "output_type": "execute_result"
    }
   ],
   "source": [
    "import seaborn as sns\n",
    "df = sns.load_dataset(\"car_crashes\")\n",
    "\n",
    "df.columns = [column.upper() for column in df.columns]\n",
    "df.columns\n",
    "\n"
   ]
  },
  {
   "cell_type": "code",
   "execution_count": 45,
   "id": "4f2e4056",
   "metadata": {},
   "outputs": [
    {
     "data": {
      "text/plain": [
       "Index(['NO_FLAG_TOTAL', 'NO_FLAG_SPEEDING', 'NO_FLAG_ALCOHOL',\n",
       "       'NO_FLAG_NOT_DISTRACTED', 'NO_FLAG_NO_PREVIOUS', 'INS_INS_PREMIUM',\n",
       "       'INS_INS_LOSSES', 'NO_FLAG_ABBREV'],\n",
       "      dtype='object')"
      ]
     },
     "execution_count": 45,
     "metadata": {},
     "output_type": "execute_result"
    }
   ],
   "source": [
    "df.columns = [\"INS_\"+column if column.startswith(\"INS\") else \"NO_FLAG_\"+column for column in df.columns]\n",
    "df.columns"
   ]
  },
  {
   "cell_type": "code",
   "execution_count": 47,
   "id": "bca1b243",
   "metadata": {},
   "outputs": [
    {
     "data": {
      "text/plain": [
       "['FLAG_INS_PREMIUM', 'FLAG_INS_LOSSES']"
      ]
     },
     "execution_count": 47,
     "metadata": {},
     "output_type": "execute_result"
    }
   ],
   "source": [
    "[\"FLAG_\" + col for col in df.columns if \"INS\" in col]"
   ]
  },
  {
   "cell_type": "code",
   "execution_count": 63,
   "id": "299892fc",
   "metadata": {},
   "outputs": [
    {
     "name": "stdout",
     "output_type": "stream",
     "text": [
      "['TOTAL', 'SPEEDING', 'ALCOHOL', 'NOT_DISTRACTED', 'NO_PREVIOUS', 'INS_PREMIUM', 'INS_LOSSES']\n",
      "{'TOTAL': ['mean', 'min', 'max', 'sum'], 'SPEEDING': ['mean', 'min', 'max', 'sum'], 'ALCOHOL': ['mean', 'min', 'max', 'sum'], 'NOT_DISTRACTED': ['mean', 'min', 'max', 'sum'], 'NO_PREVIOUS': ['mean', 'min', 'max', 'sum'], 'INS_PREMIUM': ['mean', 'min', 'max', 'sum'], 'INS_LOSSES': ['mean', 'min', 'max', 'sum']}\n",
      "   TOTAL  SPEEDING  ALCOHOL  NOT_DISTRACTED  NO_PREVIOUS  INS_PREMIUM  \\\n",
      "0   18.8     7.332    5.640          18.048       15.040       784.55   \n",
      "1   18.1     7.421    4.525          16.290       17.014      1053.48   \n",
      "2   18.6     6.510    5.208          15.624       17.856       899.47   \n",
      "3   22.4     4.032    5.824          21.056       21.280       827.34   \n",
      "4   12.0     4.200    3.360          10.920       10.680       878.41   \n",
      "\n",
      "   INS_LOSSES ABBREV  \n",
      "0      145.08     AL  \n",
      "1      133.93     AK  \n",
      "2      110.35     AZ  \n",
      "3      142.39     AR  \n",
      "4      165.63     CA  \n",
      "--------------------\n",
      "   TOTAL  SPEEDING  ALCOHOL  NOT_DISTRACTED  NO_PREVIOUS  INS_PREMIUM  \\\n",
      "0   18.8     7.332    5.640          18.048       15.040       784.55   \n",
      "1   18.1     7.421    4.525          16.290       17.014      1053.48   \n",
      "2   18.6     6.510    5.208          15.624       17.856       899.47   \n",
      "3   22.4     4.032    5.824          21.056       21.280       827.34   \n",
      "4   12.0     4.200    3.360          10.920       10.680       878.41   \n",
      "\n",
      "   INS_LOSSES  \n",
      "0      145.08  \n",
      "1      133.93  \n",
      "2      110.35  \n",
      "3      142.39  \n",
      "4      165.63  \n"
     ]
    },
    {
     "data": {
      "text/html": [
       "<div>\n",
       "<style scoped>\n",
       "    .dataframe tbody tr th:only-of-type {\n",
       "        vertical-align: middle;\n",
       "    }\n",
       "\n",
       "    .dataframe tbody tr th {\n",
       "        vertical-align: top;\n",
       "    }\n",
       "\n",
       "    .dataframe thead th {\n",
       "        text-align: right;\n",
       "    }\n",
       "</style>\n",
       "<table border=\"1\" class=\"dataframe\">\n",
       "  <thead>\n",
       "    <tr style=\"text-align: right;\">\n",
       "      <th></th>\n",
       "      <th>TOTAL</th>\n",
       "      <th>SPEEDING</th>\n",
       "      <th>ALCOHOL</th>\n",
       "      <th>NOT_DISTRACTED</th>\n",
       "      <th>NO_PREVIOUS</th>\n",
       "      <th>INS_PREMIUM</th>\n",
       "      <th>INS_LOSSES</th>\n",
       "    </tr>\n",
       "  </thead>\n",
       "  <tbody>\n",
       "    <tr>\n",
       "      <th>mean</th>\n",
       "      <td>15.790196</td>\n",
       "      <td>4.998196</td>\n",
       "      <td>4.886784</td>\n",
       "      <td>13.573176</td>\n",
       "      <td>14.004882</td>\n",
       "      <td>886.957647</td>\n",
       "      <td>134.493137</td>\n",
       "    </tr>\n",
       "    <tr>\n",
       "      <th>min</th>\n",
       "      <td>5.900000</td>\n",
       "      <td>1.792000</td>\n",
       "      <td>1.593000</td>\n",
       "      <td>1.760000</td>\n",
       "      <td>5.900000</td>\n",
       "      <td>641.960000</td>\n",
       "      <td>82.750000</td>\n",
       "    </tr>\n",
       "    <tr>\n",
       "      <th>max</th>\n",
       "      <td>23.900000</td>\n",
       "      <td>9.450000</td>\n",
       "      <td>10.038000</td>\n",
       "      <td>23.661000</td>\n",
       "      <td>21.280000</td>\n",
       "      <td>1301.520000</td>\n",
       "      <td>194.780000</td>\n",
       "    </tr>\n",
       "    <tr>\n",
       "      <th>sum</th>\n",
       "      <td>805.300000</td>\n",
       "      <td>254.908000</td>\n",
       "      <td>249.226000</td>\n",
       "      <td>692.232000</td>\n",
       "      <td>714.249000</td>\n",
       "      <td>45234.840000</td>\n",
       "      <td>6859.150000</td>\n",
       "    </tr>\n",
       "  </tbody>\n",
       "</table>\n",
       "</div>"
      ],
      "text/plain": [
       "           TOTAL    SPEEDING     ALCOHOL  NOT_DISTRACTED  NO_PREVIOUS  \\\n",
       "mean   15.790196    4.998196    4.886784       13.573176    14.004882   \n",
       "min     5.900000    1.792000    1.593000        1.760000     5.900000   \n",
       "max    23.900000    9.450000   10.038000       23.661000    21.280000   \n",
       "sum   805.300000  254.908000  249.226000      692.232000   714.249000   \n",
       "\n",
       "       INS_PREMIUM   INS_LOSSES  \n",
       "mean    886.957647   134.493137  \n",
       "min     641.960000    82.750000  \n",
       "max    1301.520000   194.780000  \n",
       "sum   45234.840000  6859.150000  "
      ]
     },
     "execution_count": 63,
     "metadata": {},
     "output_type": "execute_result"
    }
   ],
   "source": [
    "\n",
    "\n",
    "num_cols = [col for col in df.columns if df[col].dtype != \"O\"]\n",
    "agg_list= [\"mean\",\"min\",\"max\",\"sum\"]\n",
    "\n",
    "print(num_cols)\n",
    "\n",
    "dict = {col : agg_list for col in num_cols}\n",
    "print(dict)\n",
    "\n",
    "print(df.head())\n",
    "print(\"--------------------\")\n",
    "print(df[num_cols].head())\n",
    "\n",
    "\n",
    "df[num_cols].agg(dict)"
   ]
  }
 ],
 "metadata": {
  "kernelspec": {
   "display_name": "Python 3",
   "language": "python",
   "name": "python3"
  },
  "language_info": {
   "codemirror_mode": {
    "name": "ipython",
    "version": 3
   },
   "file_extension": ".py",
   "mimetype": "text/x-python",
   "name": "python",
   "nbconvert_exporter": "python",
   "pygments_lexer": "ipython3",
   "version": "3.13.5"
  }
 },
 "nbformat": 4,
 "nbformat_minor": 5
}
